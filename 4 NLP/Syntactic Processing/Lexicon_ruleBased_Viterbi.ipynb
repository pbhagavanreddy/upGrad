{
 "cells": [
  {
   "cell_type": "markdown",
   "metadata": {},
   "source": [
    "# POS Tagging - Lexicon and Rule Based Taggers\n",
    "\n",
    "Let's look at the two most basic tagging techniques - lexicon based (or unigram) and rule-based.\n",
    "\n",
    "In this guided exercise, you will explore the WSJ (wall street journal) POS-tagged corpus that comes with NLTK and build a lexicon and rule-based tagger using this corpus as the tarining data.\n",
    "\n",
    "This exercise is divided into the following sections:\n",
    "\n",
    "    Reading and understanding the tagged dataset\n",
    "    Exploratory analysis\n",
    "    Lexicon and rule-based models:\n",
    "        Creating and evaluating a lexicon POS tagger\n",
    "        Creating and evaluating a rule-based POS tagger\n",
    "\n"
   ]
  },
  {
   "cell_type": "code",
   "execution_count": 15,
   "metadata": {},
   "outputs": [
    {
     "name": "stderr",
     "output_type": "stream",
     "text": [
      "[nltk_data] Downloading package treebank to\n",
      "[nltk_data]     C:\\Users\\BhagavanReddy\\AppData\\Roaming\\nltk_data...\n",
      "[nltk_data]   Package treebank is already up-to-date!\n",
      "[nltk_data] Downloading package tagsets to\n",
      "[nltk_data]     C:\\Users\\BhagavanReddy\\AppData\\Roaming\\nltk_data...\n",
      "[nltk_data]   Unzipping help\\tagsets.zip.\n"
     ]
    },
    {
     "data": {
      "text/plain": [
       "True"
      ]
     },
     "execution_count": 15,
     "metadata": {},
     "output_type": "execute_result"
    }
   ],
   "source": [
    "# Importing libraries\n",
    "import nltk\n",
    "import numpy as np\n",
    "import pandas as pd\n",
    "import pprint, time\n",
    "import random\n",
    "from sklearn.model_selection import train_test_split\n",
    "from nltk.tokenize import word_tokenize\n",
    "import math\n",
    "\n",
    "nltk.download('treebank')\n",
    "nltk.download('tagsets')"
   ]
  },
  {
   "cell_type": "code",
   "execution_count": 4,
   "metadata": {},
   "outputs": [],
   "source": [
    "wsj = list(nltk.corpus.treebank.tagged_sents())"
   ]
  },
  {
   "cell_type": "code",
   "execution_count": 5,
   "metadata": {
    "scrolled": true
   },
   "outputs": [
    {
     "data": {
      "text/plain": [
       "[[('Pierre', 'NNP'),\n",
       "  ('Vinken', 'NNP'),\n",
       "  (',', ','),\n",
       "  ('61', 'CD'),\n",
       "  ('years', 'NNS'),\n",
       "  ('old', 'JJ'),\n",
       "  (',', ','),\n",
       "  ('will', 'MD'),\n",
       "  ('join', 'VB'),\n",
       "  ('the', 'DT'),\n",
       "  ('board', 'NN'),\n",
       "  ('as', 'IN'),\n",
       "  ('a', 'DT'),\n",
       "  ('nonexecutive', 'JJ'),\n",
       "  ('director', 'NN'),\n",
       "  ('Nov.', 'NNP'),\n",
       "  ('29', 'CD'),\n",
       "  ('.', '.')],\n",
       " [('Mr.', 'NNP'),\n",
       "  ('Vinken', 'NNP'),\n",
       "  ('is', 'VBZ'),\n",
       "  ('chairman', 'NN'),\n",
       "  ('of', 'IN'),\n",
       "  ('Elsevier', 'NNP'),\n",
       "  ('N.V.', 'NNP'),\n",
       "  (',', ','),\n",
       "  ('the', 'DT'),\n",
       "  ('Dutch', 'NNP'),\n",
       "  ('publishing', 'VBG'),\n",
       "  ('group', 'NN'),\n",
       "  ('.', '.')]]"
      ]
     },
     "execution_count": 5,
     "metadata": {},
     "output_type": "execute_result"
    }
   ],
   "source": [
    "wsj[:2]"
   ]
  },
  {
   "cell_type": "code",
   "execution_count": 7,
   "metadata": {},
   "outputs": [],
   "source": [
    "#In the list mentioned above, each element of the list is a sentence. Also, note that each sentence ends with a full stop '.' whose POS tag is also a '.'. Thus, the POS tag '.' demarcates the end of a sentence.\n",
    "\n",
    "#Also, we do not need the corpus to be segmented into sentences, but can rather use a list of (word, tag) tuples. Let's convert the list into a (word, tag) tuple"
   ]
  },
  {
   "cell_type": "code",
   "execution_count": 9,
   "metadata": {},
   "outputs": [
    {
     "name": "stdout",
     "output_type": "stream",
     "text": [
      "100676\n"
     ]
    },
    {
     "data": {
      "text/plain": [
       "[('Pierre', 'NNP'), ('Vinken', 'NNP'), (',', ','), ('61', 'CD')]"
      ]
     },
     "execution_count": 9,
     "metadata": {},
     "output_type": "execute_result"
    }
   ],
   "source": [
    "# converting the list of sents to a list of (word, pos tag) tuples\n",
    "tagged_words = [tup for sent in wsj for tup in sent]\n",
    "print(len(tagged_words))\n",
    "tagged_words[:4]"
   ]
  },
  {
   "cell_type": "markdown",
   "metadata": {},
   "source": [
    "# 2. Exploratory Analysis\n",
    "\n",
    "Let's now conduct some basic exploratory analysis to understand the tagged corpus. To start with, let's ask some simple questions:\n",
    "\n",
    "    How many unique tags are there in the corpus?\n",
    "    Which is the most frequent tag in the corpus?\n",
    "    Which tag is most commonly assigned to the following words:\n",
    "        \"bank\"\n",
    "        \"executive\"\n",
    "\n"
   ]
  },
  {
   "cell_type": "code",
   "execution_count": 10,
   "metadata": {},
   "outputs": [
    {
     "data": {
      "text/plain": [
       "46"
      ]
     },
     "execution_count": 10,
     "metadata": {},
     "output_type": "execute_result"
    }
   ],
   "source": [
    "# question 1: Find the number of unique POS tags in the corpus\n",
    "# you can use the set() function on the list of tags to get a unique set of tags, \n",
    "# and compute its length\n",
    "tags = [pair[1] for pair in tagged_words]\n",
    "unique_tags = set(tags)\n",
    "len(unique_tags)"
   ]
  },
  {
   "cell_type": "code",
   "execution_count": 11,
   "metadata": {
    "scrolled": true
   },
   "outputs": [
    {
     "data": {
      "text/plain": [
       "Counter({'NNP': 9410,\n",
       "         ',': 4886,\n",
       "         'CD': 3546,\n",
       "         'NNS': 6047,\n",
       "         'JJ': 5834,\n",
       "         'MD': 927,\n",
       "         'VB': 2554,\n",
       "         'DT': 8165,\n",
       "         'NN': 13166,\n",
       "         'IN': 9857,\n",
       "         '.': 3874,\n",
       "         'VBZ': 2125,\n",
       "         'VBG': 1460,\n",
       "         'CC': 2265,\n",
       "         'VBD': 3043,\n",
       "         'VBN': 2134,\n",
       "         '-NONE-': 6592,\n",
       "         'RB': 2822,\n",
       "         'TO': 2179,\n",
       "         'PRP': 1716,\n",
       "         'RBR': 136,\n",
       "         'WDT': 445,\n",
       "         'VBP': 1321,\n",
       "         'RP': 216,\n",
       "         'PRP$': 766,\n",
       "         'JJS': 182,\n",
       "         'POS': 824,\n",
       "         '``': 712,\n",
       "         'EX': 88,\n",
       "         \"''\": 694,\n",
       "         'WP': 241,\n",
       "         ':': 563,\n",
       "         'JJR': 381,\n",
       "         'WRB': 178,\n",
       "         '$': 724,\n",
       "         'NNPS': 244,\n",
       "         'WP$': 14,\n",
       "         '-LRB-': 120,\n",
       "         '-RRB-': 126,\n",
       "         'PDT': 27,\n",
       "         'RBS': 35,\n",
       "         'FW': 4,\n",
       "         'UH': 3,\n",
       "         'SYM': 1,\n",
       "         'LS': 13,\n",
       "         '#': 16})"
      ]
     },
     "execution_count": 11,
     "metadata": {},
     "output_type": "execute_result"
    }
   ],
   "source": [
    "# question 2: Which is the most frequent tag in the corpus\n",
    "# to count the frequency of elements in a list, the Counter() class from collections\n",
    "# module is very useful, as shown below\n",
    "\n",
    "from collections import Counter\n",
    "tag_counts = Counter(tags)\n",
    "tag_counts"
   ]
  },
  {
   "cell_type": "code",
   "execution_count": 13,
   "metadata": {},
   "outputs": [
    {
     "data": {
      "text/plain": [
       "[('NN', 13166), ('IN', 9857), ('NNP', 9410), ('DT', 8165)]"
      ]
     },
     "execution_count": 13,
     "metadata": {},
     "output_type": "execute_result"
    }
   ],
   "source": [
    "tag_counts.most_common(4)"
   ]
  },
  {
   "cell_type": "code",
   "execution_count": 16,
   "metadata": {},
   "outputs": [
    {
     "name": "stdout",
     "output_type": "stream",
     "text": [
      "$: dollar\n",
      "    $ -$ --$ A$ C$ HK$ M$ NZ$ S$ U.S.$ US$\n",
      "'': closing quotation mark\n",
      "    ' ''\n",
      "(: opening parenthesis\n",
      "    ( [ {\n",
      "): closing parenthesis\n",
      "    ) ] }\n",
      ",: comma\n",
      "    ,\n",
      "--: dash\n",
      "    --\n",
      ".: sentence terminator\n",
      "    . ! ?\n",
      ":: colon or ellipsis\n",
      "    : ; ...\n",
      "CC: conjunction, coordinating\n",
      "    & 'n and both but either et for less minus neither nor or plus so\n",
      "    therefore times v. versus vs. whether yet\n",
      "CD: numeral, cardinal\n",
      "    mid-1890 nine-thirty forty-two one-tenth ten million 0.5 one forty-\n",
      "    seven 1987 twenty '79 zero two 78-degrees eighty-four IX '60s .025\n",
      "    fifteen 271,124 dozen quintillion DM2,000 ...\n",
      "DT: determiner\n",
      "    all an another any both del each either every half la many much nary\n",
      "    neither no some such that the them these this those\n",
      "EX: existential there\n",
      "    there\n",
      "FW: foreign word\n",
      "    gemeinschaft hund ich jeux habeas Haementeria Herr K'ang-si vous\n",
      "    lutihaw alai je jour objets salutaris fille quibusdam pas trop Monte\n",
      "    terram fiche oui corporis ...\n",
      "IN: preposition or conjunction, subordinating\n",
      "    astride among uppon whether out inside pro despite on by throughout\n",
      "    below within for towards near behind atop around if like until below\n",
      "    next into if beside ...\n",
      "JJ: adjective or numeral, ordinal\n",
      "    third ill-mannered pre-war regrettable oiled calamitous first separable\n",
      "    ectoplasmic battery-powered participatory fourth still-to-be-named\n",
      "    multilingual multi-disciplinary ...\n",
      "JJR: adjective, comparative\n",
      "    bleaker braver breezier briefer brighter brisker broader bumper busier\n",
      "    calmer cheaper choosier cleaner clearer closer colder commoner costlier\n",
      "    cozier creamier crunchier cuter ...\n",
      "JJS: adjective, superlative\n",
      "    calmest cheapest choicest classiest cleanest clearest closest commonest\n",
      "    corniest costliest crassest creepiest crudest cutest darkest deadliest\n",
      "    dearest deepest densest dinkiest ...\n",
      "LS: list item marker\n",
      "    A A. B B. C C. D E F First G H I J K One SP-44001 SP-44002 SP-44005\n",
      "    SP-44007 Second Third Three Two * a b c d first five four one six three\n",
      "    two\n",
      "MD: modal auxiliary\n",
      "    can cannot could couldn't dare may might must need ought shall should\n",
      "    shouldn't will would\n",
      "NN: noun, common, singular or mass\n",
      "    common-carrier cabbage knuckle-duster Casino afghan shed thermostat\n",
      "    investment slide humour falloff slick wind hyena override subhumanity\n",
      "    machinist ...\n",
      "NNP: noun, proper, singular\n",
      "    Motown Venneboerger Czestochwa Ranzer Conchita Trumplane Christos\n",
      "    Oceanside Escobar Kreisler Sawyer Cougar Yvette Ervin ODI Darryl CTCA\n",
      "    Shannon A.K.C. Meltex Liverpool ...\n",
      "NNPS: noun, proper, plural\n",
      "    Americans Americas Amharas Amityvilles Amusements Anarcho-Syndicalists\n",
      "    Andalusians Andes Andruses Angels Animals Anthony Antilles Antiques\n",
      "    Apache Apaches Apocrypha ...\n",
      "NNS: noun, common, plural\n",
      "    undergraduates scotches bric-a-brac products bodyguards facets coasts\n",
      "    divestitures storehouses designs clubs fragrances averages\n",
      "    subjectivists apprehensions muses factory-jobs ...\n",
      "PDT: pre-determiner\n",
      "    all both half many quite such sure this\n",
      "POS: genitive marker\n",
      "    ' 's\n",
      "PRP: pronoun, personal\n",
      "    hers herself him himself hisself it itself me myself one oneself ours\n",
      "    ourselves ownself self she thee theirs them themselves they thou thy us\n",
      "PRP$: pronoun, possessive\n",
      "    her his mine my our ours their thy your\n",
      "RB: adverb\n",
      "    occasionally unabatingly maddeningly adventurously professedly\n",
      "    stirringly prominently technologically magisterially predominately\n",
      "    swiftly fiscally pitilessly ...\n",
      "RBR: adverb, comparative\n",
      "    further gloomier grander graver greater grimmer harder harsher\n",
      "    healthier heavier higher however larger later leaner lengthier less-\n",
      "    perfectly lesser lonelier longer louder lower more ...\n",
      "RBS: adverb, superlative\n",
      "    best biggest bluntest earliest farthest first furthest hardest\n",
      "    heartiest highest largest least less most nearest second tightest worst\n",
      "RP: particle\n",
      "    aboard about across along apart around aside at away back before behind\n",
      "    by crop down ever fast for forth from go high i.e. in into just later\n",
      "    low more off on open out over per pie raising start teeth that through\n",
      "    under unto up up-pp upon whole with you\n",
      "SYM: symbol\n",
      "    % & ' '' ''. ) ). * + ,. < = > @ A[fj] U.S U.S.S.R * ** ***\n",
      "TO: \"to\" as preposition or infinitive marker\n",
      "    to\n",
      "UH: interjection\n",
      "    Goodbye Goody Gosh Wow Jeepers Jee-sus Hubba Hey Kee-reist Oops amen\n",
      "    huh howdy uh dammit whammo shucks heck anyways whodunnit honey golly\n",
      "    man baby diddle hush sonuvabitch ...\n",
      "VB: verb, base form\n",
      "    ask assemble assess assign assume atone attention avoid bake balkanize\n",
      "    bank begin behold believe bend benefit bevel beware bless boil bomb\n",
      "    boost brace break bring broil brush build ...\n",
      "VBD: verb, past tense\n",
      "    dipped pleaded swiped regummed soaked tidied convened halted registered\n",
      "    cushioned exacted snubbed strode aimed adopted belied figgered\n",
      "    speculated wore appreciated contemplated ...\n",
      "VBG: verb, present participle or gerund\n",
      "    telegraphing stirring focusing angering judging stalling lactating\n",
      "    hankerin' alleging veering capping approaching traveling besieging\n",
      "    encrypting interrupting erasing wincing ...\n",
      "VBN: verb, past participle\n",
      "    multihulled dilapidated aerosolized chaired languished panelized used\n",
      "    experimented flourished imitated reunifed factored condensed sheared\n",
      "    unsettled primed dubbed desired ...\n",
      "VBP: verb, present tense, not 3rd person singular\n",
      "    predominate wrap resort sue twist spill cure lengthen brush terminate\n",
      "    appear tend stray glisten obtain comprise detest tease attract\n",
      "    emphasize mold postpone sever return wag ...\n",
      "VBZ: verb, present tense, 3rd person singular\n",
      "    bases reconstructs marks mixes displeases seals carps weaves snatches\n",
      "    slumps stretches authorizes smolders pictures emerges stockpiles\n",
      "    seduces fizzes uses bolsters slaps speaks pleads ...\n",
      "WDT: WH-determiner\n",
      "    that what whatever which whichever\n",
      "WP: WH-pronoun\n",
      "    that what whatever whatsoever which who whom whosoever\n",
      "WP$: WH-pronoun, possessive\n",
      "    whose\n",
      "WRB: Wh-adverb\n",
      "    how however whence whenever where whereby whereever wherein whereof why\n",
      "``: opening quotation mark\n",
      "    ` ``\n"
     ]
    }
   ],
   "source": [
    "# list of POS tags in NLTK\n",
    "nltk.help.upenn_tagset()"
   ]
  },
  {
   "cell_type": "code",
   "execution_count": 17,
   "metadata": {
    "scrolled": true
   },
   "outputs": [
    {
     "data": {
      "text/plain": [
       "[('bank', 'NN'),\n",
       " ('Bank', 'NNP'),\n",
       " ('bank', 'NN'),\n",
       " ('Bank', 'NNP'),\n",
       " ('bank', 'NN'),\n",
       " ('Bank', 'NNP'),\n",
       " ('bank', 'NN'),\n",
       " ('Bank', 'NNP'),\n",
       " ('bank', 'NN'),\n",
       " ('bank', 'NN'),\n",
       " ('bank', 'NN'),\n",
       " ('Bank', 'NNP'),\n",
       " ('Bank', 'NNP'),\n",
       " ('Bank', 'NNP'),\n",
       " ('Bank', 'NNP'),\n",
       " ('bank', 'NN'),\n",
       " ('bank', 'NN'),\n",
       " ('bank', 'NN'),\n",
       " ('bank', 'NN'),\n",
       " ('bank', 'NN'),\n",
       " ('Bank', 'NNP'),\n",
       " ('Bank', 'NNP'),\n",
       " ('Bank', 'NNP'),\n",
       " ('bank', 'NN'),\n",
       " ('Bank', 'NNP'),\n",
       " ('Bank', 'NNP'),\n",
       " ('bank', 'NN'),\n",
       " ('Bank', 'NNP'),\n",
       " ('Bank', 'NNP'),\n",
       " ('bank', 'NN'),\n",
       " ('bank', 'NN'),\n",
       " ('Bank', 'NNP'),\n",
       " ('bank', 'NN'),\n",
       " ('bank', 'NN'),\n",
       " ('bank', 'NN'),\n",
       " ('Bank', 'NNP'),\n",
       " ('bank', 'NN'),\n",
       " ('bank', 'NN'),\n",
       " ('bank', 'NN'),\n",
       " ('bank', 'NN'),\n",
       " ('bank', 'NN'),\n",
       " ('Bank', 'NNP'),\n",
       " ('Bank', 'NNP'),\n",
       " ('Bank', 'NNP'),\n",
       " ('bank', 'NN'),\n",
       " ('Bank', 'NNP'),\n",
       " ('Bank', 'NNP'),\n",
       " ('Bank', 'NNP'),\n",
       " ('Bank', 'NNP'),\n",
       " ('Bank', 'NNP'),\n",
       " ('Bank', 'NNP'),\n",
       " ('Bank', 'NNP'),\n",
       " ('Bank', 'NNP'),\n",
       " ('Bank', 'NNP'),\n",
       " ('bank', 'NN'),\n",
       " ('bank', 'NN'),\n",
       " ('Bank', 'NNP'),\n",
       " ('bank', 'NN'),\n",
       " ('bank', 'NN'),\n",
       " ('Bank', 'NNP'),\n",
       " ('bank', 'NN'),\n",
       " ('bank', 'NN'),\n",
       " ('bank', 'NN'),\n",
       " ('bank', 'NN'),\n",
       " ('bank', 'NN'),\n",
       " ('bank', 'NN'),\n",
       " ('bank', 'NN'),\n",
       " ('bank', 'NN'),\n",
       " ('Bank', 'NNP'),\n",
       " ('bank', 'NN')]"
      ]
     },
     "execution_count": 17,
     "metadata": {},
     "output_type": "execute_result"
    }
   ],
   "source": [
    "# question 3: Which tag is most commonly assigned to the word w.\n",
    "bank = [pair for pair in tagged_words if pair[0].lower() == 'bank']\n",
    "bank"
   ]
  },
  {
   "cell_type": "markdown",
   "metadata": {},
   "source": [
    "# 2. Exploratory Analysis Contd.\n",
    "\n",
    "Until now, we were looking at the frequency of tags assigned to particular words, which is the basic idea used by lexicon or unigram taggers. Let's now try observing some rules which can potentially be used for POS tagging.\n",
    "\n",
    "To start with, let's see if the following questions reveal something useful:\n",
    "\n",
    "    What fraction of words with the tag 'VBD' (verb, past tense) end with the letters 'ed'\n",
    "    What fraction of words with the tag 'VBG' (verb, present participle/gerund) end with the letters 'ing'\n",
    "\n"
   ]
  },
  {
   "cell_type": "code",
   "execution_count": 20,
   "metadata": {},
   "outputs": [
    {
     "name": "stdout",
     "output_type": "stream",
     "text": [
      "1181\n",
      "0.3881038448899113\n"
     ]
    },
    {
     "data": {
      "text/plain": [
       "[('reported', 'VBD'),\n",
       " ('stopped', 'VBD'),\n",
       " ('studied', 'VBD'),\n",
       " ('led', 'VBD'),\n",
       " ('worked', 'VBD')]"
      ]
     },
     "execution_count": 20,
     "metadata": {},
     "output_type": "execute_result"
    }
   ],
   "source": [
    "# 4. how many words with the tag 'VBD' (verb, past tense) end with 'ed'\n",
    "past_tense = [pair for pair in tagged_words if pair[1]=='VBD']\n",
    "ed_verbs = [pair for pair in past_tense if pair[0].endswith('ed')]\n",
    "print(len(ed_verbs))\n",
    "print(len(ed_verbs)/len(past_tense))\n",
    "ed_verbs[:5]"
   ]
  },
  {
   "cell_type": "code",
   "execution_count": 22,
   "metadata": {},
   "outputs": [
    {
     "name": "stdout",
     "output_type": "stream",
     "text": [
      "5834\n",
      "2611\n",
      "0.4475488515598217\n"
     ]
    }
   ],
   "source": [
    "# question: what fraction of adjectives JJ are followed by a noun NN\n",
    "tags = [pair[1] for pair in tagged_words]\n",
    "jj_tags = [t for t in tags if t == 'JJ']\n",
    "# create a list of (JJ, NN) tags\n",
    "jj_nn_tags = [(t, tags[index+1]) for index, t in enumerate(tags) \n",
    "              if t=='JJ' and tags[index+1]=='NN']\n",
    "\n",
    "print(len(jj_tags))\n",
    "print(len(jj_nn_tags))\n",
    "print(len(jj_nn_tags) / len(jj_tags))"
   ]
  },
  {
   "cell_type": "code",
   "execution_count": 24,
   "metadata": {},
   "outputs": [
    {
     "name": "stdout",
     "output_type": "stream",
     "text": [
      "927\n",
      "756\n",
      "0.8155339805825242\n"
     ]
    }
   ],
   "source": [
    "# question: what fraction of modals MD are followed by a verb VB?\n",
    "md_tags = [t for t in tags if t == 'MD']\n",
    "md_vb_tags = [(t, tags[index+1]) for index, t in enumerate(tags) \n",
    "              if t=='MD' and tags[index+1]=='VB']\n",
    "\n",
    "print(len(md_tags))\n",
    "print(len(md_vb_tags))\n",
    "print(len(md_vb_tags) / len(md_tags))"
   ]
  },
  {
   "cell_type": "markdown",
   "metadata": {},
   "source": [
    "# 3. Lexicon and Rule-Based Models for POS Tagging\n",
    "\n",
    "Let's now see lexicon and rule-based models for POS tagging. We'll first split the corpus into training and test sets and then use built-in NLTK taggers.\n",
    "3.1 Splitting into Train and Test Sets"
   ]
  },
  {
   "cell_type": "code",
   "execution_count": 32,
   "metadata": {},
   "outputs": [
    {
     "name": "stdout",
     "output_type": "stream",
     "text": [
      "2739\n",
      "1175\n",
      "[[('The', 'DT'), ('index', 'NN'), ('of', 'IN'), ('the', 'DT'), ('100', 'CD'), ('largest', 'JJS'), ('Nasdaq', 'NNP'), ('financial', 'JJ'), ('stocks', 'NNS'), ('rose', 'VBD'), ('modestly', 'RB'), ('as', 'IN'), ('well', 'RB'), (',', ','), ('*-1', '-NONE-'), ('gaining', 'VBG'), ('1.28', 'CD'), ('to', 'TO'), ('449.04', 'CD'), ('.', '.')], [('Last', 'JJ'), ('year', 'NN'), (',', ','), ('it', 'PRP'), ('had', 'VBD'), ('*-1', '-NONE-'), ('to', 'TO'), ('buy', 'VB'), ('sugar', 'NN'), ('on', 'IN'), ('the', 'DT'), ('world', 'NN'), ('market', 'NN'), ('*-2', '-NONE-'), ('to', 'TO'), ('meet', 'VB'), ('export', 'NN'), ('commitments', 'NNS'), (',', ','), ('they', 'PRP'), ('noted', 'VBD'), ('0', '-NONE-'), ('*T*-3', '-NONE-'), ('.', '.')]]\n"
     ]
    }
   ],
   "source": [
    "# splitting into train and test\n",
    "random.seed(1234)\n",
    "train_set, test_set = train_test_split(wsj, test_size=0.3)\n",
    "\n",
    "print(len(train_set))\n",
    "print(len(test_set))\n",
    "print(train_set[:2])"
   ]
  },
  {
   "cell_type": "markdown",
   "metadata": {},
   "source": [
    "# 3.2 Lexicon (Unigram) Tagger\n",
    "\n",
    "Let's now try training a lexicon (or a unigram) tagger which assigns the most commonly assigned tag to a word.\n",
    "\n",
    "In NLTK, the UnigramTagger() can be used to train such a model.\n"
   ]
  },
  {
   "cell_type": "code",
   "execution_count": 25,
   "metadata": {},
   "outputs": [
    {
     "data": {
      "text/plain": [
       "0.8718433931484503"
      ]
     },
     "execution_count": 25,
     "metadata": {},
     "output_type": "execute_result"
    }
   ],
   "source": [
    "unigram = nltk.UnigramTagger(train_set)\n",
    "unigram.evaluate(test_set)"
   ]
  },
  {
   "cell_type": "markdown",
   "metadata": {},
   "source": [
    "### 3.3. Rule-Based (Regular Expression) Tagger\n",
    "\n",
    "Now let's build a rule-based, or regular expression based tagger. In NLTK, the RegexpTagger() can be provided with handwritten regular expression patterns, as shown below.\n",
    "\n",
    "In the example below, we specify regexes for gerunds and past tense verbs (as seen above), 3rd singular present verb (creates, moves, makes etc.), modal verbs MD (should, would, could), possesive nouns (partner's, bank's etc.), plural nouns (banks, institutions), cardinal numbers CD and finally, if none of the above rules are applicable to a word, we tag the most frequent tag NN.\n"
   ]
  },
  {
   "cell_type": "code",
   "execution_count": 26,
   "metadata": {},
   "outputs": [],
   "source": [
    "# specify patterns for tagging\n",
    "# example from the NLTK book\n",
    "patterns = [\n",
    "    (r'.*ing$', 'VBG'),              # gerund\n",
    "    (r'.*ed$', 'VBD'),               # past tense\n",
    "    (r'.*es$', 'VBZ'),               # 3rd singular present\n",
    "    (r'.*ould$', 'MD'),              # modals\n",
    "    (r'.*\\'s$', 'NN$'),              # possessive nouns\n",
    "    (r'.*s$', 'NNS'),                # plural nouns\n",
    "    (r'^-?[0-9]+(.[0-9]+)?$', 'CD'), # cardinal numbers\n",
    "    (r'.*', 'NN')                    # nouns\n",
    "]"
   ]
  },
  {
   "cell_type": "code",
   "execution_count": 28,
   "metadata": {},
   "outputs": [
    {
     "data": {
      "text/plain": [
       "0.22205546492659053"
      ]
     },
     "execution_count": 28,
     "metadata": {},
     "output_type": "execute_result"
    }
   ],
   "source": [
    "regexp_tagger = nltk.RegexpTagger(patterns)\n",
    "# help(regexp_tagger)\n",
    "regexp_tagger.evaluate(test_set)"
   ]
  },
  {
   "cell_type": "markdown",
   "metadata": {},
   "source": [
    "### 3.4 Combining Taggers\n",
    "\n",
    "Let's now try combining the taggers created above. We saw that the rule-based tagger by itself is quite ineffective since we've only written a handful of rules. However, if we could combine the lexicon and the rule-based tagger, we can potentially create a tagger much better than any of the individual ones.\n",
    "\n",
    "NLTK provides a convenient way to combine taggers using the 'backup' argument. In the following code, we create a regex tagger which is used as a backup tagger to the lexicon tagger, i.e. when the tagger is not able to tag using the lexicon (in case of a new word not in the vocabulary), it uses the rule-based tagger.\n",
    "\n",
    "Also, note that the rule-based tagger itself is backed up by the tag 'NN'.\n"
   ]
  },
  {
   "cell_type": "code",
   "execution_count": 29,
   "metadata": {},
   "outputs": [
    {
     "data": {
      "text/plain": [
       "0.9043066884176183"
      ]
     },
     "execution_count": 29,
     "metadata": {},
     "output_type": "execute_result"
    }
   ],
   "source": [
    "rule_based = nltk.RegexpTagger(patterns)\n",
    "lexicon = nltk.UnigramTagger(train_set, backoff = rule_based)\n",
    "lexicon.evaluate(test_set)"
   ]
  },
  {
   "cell_type": "markdown",
   "metadata": {},
   "source": [
    "# POS Tagging, HMMs, Viterbi\n",
    "\n",
    "Let's learn how to do POS tagging by Viterbi Heuristic using tagged Treebank corpus. Before going through the code, let's first understand the pseudo-code for the same.\n",
    "\n",
    "    Tagged Treebank corpus is available (Sample data to training and test data set)\n",
    "        Basic text and structure exploration\n",
    "    Creating HMM model on the tagged data set.\n",
    "        Calculating Emission Probabaility: P(observation|state)\n",
    "        Calculating Transition Probability: P(state2|state1)\n",
    "    Developing algorithm for Viterbi Heuristic\n",
    "    Checking accuracy on the test data set\n"
   ]
  },
  {
   "cell_type": "code",
   "execution_count": 30,
   "metadata": {},
   "outputs": [],
   "source": [
    "#Importing libraries\n",
    "import nltk, re, pprint\n",
    "import numpy as np\n",
    "import pandas as pd\n",
    "import requests\n",
    "import matplotlib.pyplot as plt\n",
    "import seaborn as sns\n",
    "import pprint, time\n",
    "import random\n",
    "from sklearn.model_selection import train_test_split\n",
    "from nltk.tokenize import word_tokenize"
   ]
  },
  {
   "cell_type": "code",
   "execution_count": 33,
   "metadata": {},
   "outputs": [
    {
     "data": {
      "text/plain": [
       "70565"
      ]
     },
     "execution_count": 33,
     "metadata": {},
     "output_type": "execute_result"
    }
   ],
   "source": [
    "# Getting list of tagged words\n",
    "train_tagged_words = [tup for sent in train_set for tup in sent]\n",
    "len(train_tagged_words)"
   ]
  },
  {
   "cell_type": "code",
   "execution_count": 36,
   "metadata": {},
   "outputs": [
    {
     "data": {
      "text/plain": [
       "['The', 'index', 'of', 'the', '100']"
      ]
     },
     "execution_count": 36,
     "metadata": {},
     "output_type": "execute_result"
    }
   ],
   "source": [
    "tokens = [pair[0] for pair in train_tagged_words]\n",
    "tokens[:5]"
   ]
  },
  {
   "cell_type": "code",
   "execution_count": 41,
   "metadata": {},
   "outputs": [
    {
     "name": "stdout",
     "output_type": "stream",
     "text": [
      "10245\n"
     ]
    }
   ],
   "source": [
    "V = set(tokens)\n",
    "print(len(V))"
   ]
  },
  {
   "cell_type": "code",
   "execution_count": 40,
   "metadata": {},
   "outputs": [
    {
     "name": "stdout",
     "output_type": "stream",
     "text": [
      "46\n",
      "{'-LRB-', 'NNS', 'VBD', ':', 'JJS', 'RB', '.', 'NNPS', 'DT', 'JJR', 'RBS', \"''\", '-NONE-', '$', '#', 'NN', 'PDT', 'PRP', 'POS', 'WP', 'NNP', 'MD', 'VBN', 'WDT', 'CC', 'RP', 'VBZ', '-RRB-', 'UH', 'VBP', 'JJ', 'WP$', ',', 'EX', 'SYM', 'PRP$', 'VB', '``', 'RBR', 'WRB', 'LS', 'IN', 'FW', 'VBG', 'CD', 'TO'}\n"
     ]
    }
   ],
   "source": [
    "# number of tags\n",
    "T = set([pair[1] for pair in train_tagged_words])\n",
    "print(len(T))\n",
    "print(T)"
   ]
  },
  {
   "cell_type": "markdown",
   "metadata": {},
   "source": [
    "## 2. POS Tagging Algorithm - HMM\n",
    "\n",
    "We'll use the HMM algorithm to tag the words. Given a sequence of words to be tagged, the task is to assign the most probable tag to the word.\n",
    "\n",
    "In other words, to every word w, assign the tag t that maximises the likelihood P(t/w). Since P(t/w) = P(w/t). P(t) / P(w), after ignoring P(w), we have to compute P(w/t) and P(t).\n",
    "\n",
    "P(w/t) is basically the probability that given a tag (say NN), what is the probability of it being w (say 'building'). This can be computed by computing the fraction of all NNs which are equal to w, i.e.\n",
    "\n",
    "P(w/t) = count(w, t) / count(t).\n",
    "\n",
    "The term P(t) is the probability of tag t, and in a tagging task, we assume that a tag will depend only on the previous tag. In other words, the probability of a tag being NN will depend only on the previous tag t(n-1). So for e.g. if t(n-1) is a JJ, then t(n) is likely to be an NN since adjectives often precede a noun (blue coat, tall building etc.).\n",
    "\n",
    "Given the penn treebank tagged dataset, we can compute the two terms P(w/t) and P(t) and store them in two large matrices. The matrix of P(w/t) will be sparse, since each word will not be seen with most tags ever, and those terms will thus be zero.\n"
   ]
  },
  {
   "cell_type": "code",
   "execution_count": 42,
   "metadata": {},
   "outputs": [],
   "source": [
    "# computing P(w/t) and storing in T x V matrix\n",
    "t = len(T)\n",
    "v = len(V)\n",
    "w_given_t = np.zeros((t, v))"
   ]
  },
  {
   "cell_type": "code",
   "execution_count": 43,
   "metadata": {},
   "outputs": [],
   "source": [
    "# compute word given tag: Emission Probability\n",
    "def word_given_tag(word, tag, train_bag = train_tagged_words):\n",
    "    tag_list = [pair for pair in train_tagged_words if pair[1]==tag]\n",
    "    count_tags = len(tag_list)\n",
    "    word_with_tags = [pair for pair in tag_list if pair[0]==word]\n",
    "    count_word_with_tags = len(word_with_tags)\n",
    "    \n",
    "    return(count_word_with_tags, count_tags)"
   ]
  },
  {
   "cell_type": "code",
   "execution_count": 46,
   "metadata": {},
   "outputs": [
    {
     "name": "stdout",
     "output_type": "stream",
     "text": [
      "word = large\n",
      "(20, 4104) (0, 1793) (0, 9180)\n",
      "\n",
      " word = will\n",
      "(194, 637) (1, 9180) (0, 1793)\n"
     ]
    }
   ],
   "source": [
    "# examples\n",
    "print(\"word = large\")\n",
    "print(word_given_tag('large', 'JJ'),word_given_tag('large', 'VB'), word_given_tag('large', 'NN'))\n",
    "print(\"\\n\", \"word = will\")\n",
    "print(word_given_tag('will', 'MD'), word_given_tag('will', 'NN'), word_given_tag('will', 'VB'))"
   ]
  },
  {
   "cell_type": "markdown",
   "metadata": {},
   "source": [
    "# Transition Probability"
   ]
  },
  {
   "cell_type": "code",
   "execution_count": 47,
   "metadata": {},
   "outputs": [],
   "source": [
    "# compute tag given tag: tag2(t2) given tag1 (t1), i.e. Transition Probability\n",
    "\n",
    "def t2_given_t1(t2, t1, train_bag = train_tagged_words):\n",
    "    tags = [pair[1] for pair in train_bag]\n",
    "    count_t1 = len([t for t in tags if t==t1])\n",
    "    count_t2_t1 = 0\n",
    "    for index in range(len(tags)-1):\n",
    "        if tags[index]==t1 and tags[index+1] == t2:\n",
    "            count_t2_t1 += 1\n",
    "    return (count_t2_t1, count_t1)"
   ]
  },
  {
   "cell_type": "code",
   "execution_count": 48,
   "metadata": {},
   "outputs": [
    {
     "name": "stdout",
     "output_type": "stream",
     "text": [
      "(137, 4104)\n",
      "(1830, 4104) (2681, 5707) (994, 6590) (3, 1218)\n",
      "(5, 6590)\n"
     ]
    }
   ],
   "source": [
    "# examples\n",
    "print(t2_given_t1(t2='NNP', t1='JJ'))\n",
    "print(t2_given_t1('NN', 'JJ'), t2_given_t1('NN', 'DT'), t2_given_t1(',', 'NNP'), t2_given_t1('PRP', 'PRP'))\n",
    "print(t2_given_t1('VBG', 'NNP'))"
   ]
  },
  {
   "cell_type": "code",
   "execution_count": 49,
   "metadata": {},
   "outputs": [
    {
     "name": "stdout",
     "output_type": "stream",
     "text": [
      "(582, 2710) (8, 2710) (116, 2710) (487, 2710)\n"
     ]
    }
   ],
   "source": [
    "#Please note P(tag|start) is same as P(tag|'.')\n",
    "print(t2_given_t1('DT', '.'), t2_given_t1('VBG', '.'), t2_given_t1('NN', '.'), t2_given_t1('NNP', '.'))"
   ]
  },
  {
   "cell_type": "code",
   "execution_count": 50,
   "metadata": {},
   "outputs": [
    {
     "data": {
      "text/plain": [
       "array([[0.        , 0.02061856, 0.        , ..., 0.01030928, 0.08247422,\n",
       "        0.        ],\n",
       "       [0.00355282, 0.01279015, 0.07792515, ..., 0.01231644, 0.00189484,\n",
       "        0.01942207],\n",
       "       [0.00046598, 0.02003728, 0.        , ..., 0.02050326, 0.04892824,\n",
       "        0.02516309],\n",
       "       ...,\n",
       "       [0.        , 0.10068426, 0.00097752, ..., 0.00293255, 0.02248289,\n",
       "        0.04398827],\n",
       "       [0.00158919, 0.1458085 , 0.00556218, ..., 0.0011919 , 0.18712753,\n",
       "        0.02701629],\n",
       "       [0.        , 0.0282523 , 0.        , ..., 0.00131406, 0.07621551,\n",
       "        0.        ]], dtype=float32)"
      ]
     },
     "execution_count": 50,
     "metadata": {},
     "output_type": "execute_result"
    }
   ],
   "source": [
    "# creating t x t transition matrix of tags\n",
    "# each column is t2, each row is t1\n",
    "# thus M(i, j) represents P(tj given ti)\n",
    "\n",
    "tags_matrix = np.zeros((len(T), len(T)), dtype='float32')\n",
    "for i, t1 in enumerate(list(T)):\n",
    "    for j, t2 in enumerate(list(T)): \n",
    "        tags_matrix[i, j] = t2_given_t1(t2, t1)[0]/t2_given_t1(t2, t1)[1]\n",
    "        \n",
    "tags_matrix"
   ]
  },
  {
   "cell_type": "code",
   "execution_count": 51,
   "metadata": {},
   "outputs": [
    {
     "data": {
      "text/html": [
       "<div>\n",
       "<style scoped>\n",
       "    .dataframe tbody tr th:only-of-type {\n",
       "        vertical-align: middle;\n",
       "    }\n",
       "\n",
       "    .dataframe tbody tr th {\n",
       "        vertical-align: top;\n",
       "    }\n",
       "\n",
       "    .dataframe thead th {\n",
       "        text-align: right;\n",
       "    }\n",
       "</style>\n",
       "<table border=\"1\" class=\"dataframe\">\n",
       "  <thead>\n",
       "    <tr style=\"text-align: right;\">\n",
       "      <th></th>\n",
       "      <th>-LRB-</th>\n",
       "      <th>NNS</th>\n",
       "      <th>VBD</th>\n",
       "      <th>:</th>\n",
       "      <th>JJS</th>\n",
       "      <th>RB</th>\n",
       "      <th>.</th>\n",
       "      <th>NNPS</th>\n",
       "      <th>DT</th>\n",
       "      <th>JJR</th>\n",
       "      <th>...</th>\n",
       "      <th>VB</th>\n",
       "      <th>``</th>\n",
       "      <th>RBR</th>\n",
       "      <th>WRB</th>\n",
       "      <th>LS</th>\n",
       "      <th>IN</th>\n",
       "      <th>FW</th>\n",
       "      <th>VBG</th>\n",
       "      <th>CD</th>\n",
       "      <th>TO</th>\n",
       "    </tr>\n",
       "  </thead>\n",
       "  <tbody>\n",
       "    <tr>\n",
       "      <td>-LRB-</td>\n",
       "      <td>0.000000</td>\n",
       "      <td>0.020619</td>\n",
       "      <td>0.000000</td>\n",
       "      <td>0.000000</td>\n",
       "      <td>0.0</td>\n",
       "      <td>0.000000</td>\n",
       "      <td>0.000000</td>\n",
       "      <td>0.0</td>\n",
       "      <td>0.082474</td>\n",
       "      <td>0.020619</td>\n",
       "      <td>...</td>\n",
       "      <td>0.000000</td>\n",
       "      <td>0.000000</td>\n",
       "      <td>0.000000</td>\n",
       "      <td>0.000000</td>\n",
       "      <td>0.000000</td>\n",
       "      <td>0.082474</td>\n",
       "      <td>0.0</td>\n",
       "      <td>0.010309</td>\n",
       "      <td>0.082474</td>\n",
       "      <td>0.000000</td>\n",
       "    </tr>\n",
       "    <tr>\n",
       "      <td>NNS</td>\n",
       "      <td>0.003553</td>\n",
       "      <td>0.012790</td>\n",
       "      <td>0.077925</td>\n",
       "      <td>0.018238</td>\n",
       "      <td>0.0</td>\n",
       "      <td>0.025817</td>\n",
       "      <td>0.119375</td>\n",
       "      <td>0.0</td>\n",
       "      <td>0.014211</td>\n",
       "      <td>0.002605</td>\n",
       "      <td>...</td>\n",
       "      <td>0.004737</td>\n",
       "      <td>0.001421</td>\n",
       "      <td>0.001658</td>\n",
       "      <td>0.002605</td>\n",
       "      <td>0.000000</td>\n",
       "      <td>0.240407</td>\n",
       "      <td>0.0</td>\n",
       "      <td>0.012316</td>\n",
       "      <td>0.001895</td>\n",
       "      <td>0.019422</td>\n",
       "    </tr>\n",
       "    <tr>\n",
       "      <td>VBD</td>\n",
       "      <td>0.000466</td>\n",
       "      <td>0.020037</td>\n",
       "      <td>0.000000</td>\n",
       "      <td>0.001864</td>\n",
       "      <td>0.0</td>\n",
       "      <td>0.079683</td>\n",
       "      <td>0.004660</td>\n",
       "      <td>0.0</td>\n",
       "      <td>0.123952</td>\n",
       "      <td>0.006990</td>\n",
       "      <td>...</td>\n",
       "      <td>0.002330</td>\n",
       "      <td>0.003728</td>\n",
       "      <td>0.002330</td>\n",
       "      <td>0.001398</td>\n",
       "      <td>0.000000</td>\n",
       "      <td>0.107176</td>\n",
       "      <td>0.0</td>\n",
       "      <td>0.020503</td>\n",
       "      <td>0.048928</td>\n",
       "      <td>0.025163</td>\n",
       "    </tr>\n",
       "    <tr>\n",
       "      <td>:</td>\n",
       "      <td>0.000000</td>\n",
       "      <td>0.038660</td>\n",
       "      <td>0.025773</td>\n",
       "      <td>0.000000</td>\n",
       "      <td>0.0</td>\n",
       "      <td>0.033505</td>\n",
       "      <td>0.010309</td>\n",
       "      <td>0.0</td>\n",
       "      <td>0.113402</td>\n",
       "      <td>0.005155</td>\n",
       "      <td>...</td>\n",
       "      <td>0.007732</td>\n",
       "      <td>0.054124</td>\n",
       "      <td>0.000000</td>\n",
       "      <td>0.007732</td>\n",
       "      <td>0.007732</td>\n",
       "      <td>0.100515</td>\n",
       "      <td>0.0</td>\n",
       "      <td>0.012887</td>\n",
       "      <td>0.090206</td>\n",
       "      <td>0.002577</td>\n",
       "    </tr>\n",
       "    <tr>\n",
       "      <td>JJS</td>\n",
       "      <td>0.000000</td>\n",
       "      <td>0.141732</td>\n",
       "      <td>0.007874</td>\n",
       "      <td>0.000000</td>\n",
       "      <td>0.0</td>\n",
       "      <td>0.039370</td>\n",
       "      <td>0.015748</td>\n",
       "      <td>0.0</td>\n",
       "      <td>0.007874</td>\n",
       "      <td>0.000000</td>\n",
       "      <td>...</td>\n",
       "      <td>0.015748</td>\n",
       "      <td>0.000000</td>\n",
       "      <td>0.000000</td>\n",
       "      <td>0.000000</td>\n",
       "      <td>0.000000</td>\n",
       "      <td>0.196850</td>\n",
       "      <td>0.0</td>\n",
       "      <td>0.023622</td>\n",
       "      <td>0.055118</td>\n",
       "      <td>0.000000</td>\n",
       "    </tr>\n",
       "  </tbody>\n",
       "</table>\n",
       "<p>5 rows × 46 columns</p>\n",
       "</div>"
      ],
      "text/plain": [
       "          -LRB-       NNS       VBD         :  JJS        RB         .  NNPS  \\\n",
       "-LRB-  0.000000  0.020619  0.000000  0.000000  0.0  0.000000  0.000000   0.0   \n",
       "NNS    0.003553  0.012790  0.077925  0.018238  0.0  0.025817  0.119375   0.0   \n",
       "VBD    0.000466  0.020037  0.000000  0.001864  0.0  0.079683  0.004660   0.0   \n",
       ":      0.000000  0.038660  0.025773  0.000000  0.0  0.033505  0.010309   0.0   \n",
       "JJS    0.000000  0.141732  0.007874  0.000000  0.0  0.039370  0.015748   0.0   \n",
       "\n",
       "             DT       JJR  ...        VB        ``       RBR       WRB  \\\n",
       "-LRB-  0.082474  0.020619  ...  0.000000  0.000000  0.000000  0.000000   \n",
       "NNS    0.014211  0.002605  ...  0.004737  0.001421  0.001658  0.002605   \n",
       "VBD    0.123952  0.006990  ...  0.002330  0.003728  0.002330  0.001398   \n",
       ":      0.113402  0.005155  ...  0.007732  0.054124  0.000000  0.007732   \n",
       "JJS    0.007874  0.000000  ...  0.015748  0.000000  0.000000  0.000000   \n",
       "\n",
       "             LS        IN   FW       VBG        CD        TO  \n",
       "-LRB-  0.000000  0.082474  0.0  0.010309  0.082474  0.000000  \n",
       "NNS    0.000000  0.240407  0.0  0.012316  0.001895  0.019422  \n",
       "VBD    0.000000  0.107176  0.0  0.020503  0.048928  0.025163  \n",
       ":      0.007732  0.100515  0.0  0.012887  0.090206  0.002577  \n",
       "JJS    0.000000  0.196850  0.0  0.023622  0.055118  0.000000  \n",
       "\n",
       "[5 rows x 46 columns]"
      ]
     },
     "execution_count": 51,
     "metadata": {},
     "output_type": "execute_result"
    }
   ],
   "source": [
    "# convert the matrix to a df for better readability\n",
    "tags_df = pd.DataFrame(tags_matrix, columns = list(T), index=list(T))\n",
    "tags_df.head()"
   ]
  },
  {
   "cell_type": "code",
   "execution_count": 52,
   "metadata": {
    "scrolled": true
   },
   "outputs": [
    {
     "data": {
      "image/png": "[encoded data removed]",
      "text/plain": [
       "<Figure size 1296x864 with 2 Axes>"
      ]
     },
     "metadata": {
      "needs_background": "light"
     },
     "output_type": "display_data"
    }
   ],
   "source": [
    "# heatmap of tags matrix\n",
    "# T(i, j) means P(tag j given tag i)\n",
    "plt.figure(figsize=(18, 12))\n",
    "sns.heatmap(tags_df)\n",
    "plt.show()"
   ]
  },
  {
   "cell_type": "code",
   "execution_count": 53,
   "metadata": {
    "scrolled": true
   },
   "outputs": [
    {
     "data": {
      "image/png": "[encoded data removed]",
      "text/plain": [
       "<Figure size 1296x864 with 2 Axes>"
      ]
     },
     "metadata": {
      "needs_background": "light"
     },
     "output_type": "display_data"
    }
   ],
   "source": [
    "# frequent tags\n",
    "# filter the df to get P(t2, t1) > 0.5\n",
    "tags_frequent = tags_df[tags_df>0.5]\n",
    "plt.figure(figsize=(18, 12))\n",
    "sns.heatmap(tags_frequent)\n",
    "plt.show()"
   ]
  },
  {
   "cell_type": "markdown",
   "metadata": {},
   "source": [
    "### 3. Viterbi Algorithm\n",
    "\n",
    "Let's now use the computed probabilities P(w, tag) and P(t2, t1) to assign tags to each word in the document. We'll run through each word w and compute P(tag/w)=P(w/tag).P(tag) for each tag in the tag set, and then assign the tag having the max P(tag/w).\n",
    "\n",
    "We'll store the assigned tags in a list of tuples, similar to the list 'train_tagged_words'. Each tuple will be a (token, assigned_tag). As we progress further in the list, each tag to be assigned will use the tag of the previous token.\n",
    "\n",
    "Note: P(tag|start) = P(tag|'.')\n"
   ]
  },
  {
   "cell_type": "code",
   "execution_count": 55,
   "metadata": {},
   "outputs": [],
   "source": [
    "# Viterbi Heuristic\n",
    "def Viterbi(words, train_bag = train_tagged_words):\n",
    "    state = []\n",
    "    T = list(set([pair[1] for pair in train_bag]))\n",
    "    \n",
    "    for key, word in enumerate(words):\n",
    "        #initialise list of probability column for a given observation\n",
    "        p = [] \n",
    "        for tag in T:\n",
    "            if key == 0:\n",
    "                transition_p = tags_df.loc['.', tag]\n",
    "            else:\n",
    "                transition_p = tags_df.loc[state[-1], tag]\n",
    "                \n",
    "            # compute emission and state probabilities\n",
    "            emission_p = word_given_tag(words[key], tag)[0]/word_given_tag(words[key], tag)[1]\n",
    "            state_probability = emission_p * transition_p    \n",
    "            p.append(state_probability)\n",
    "            \n",
    "        pmax = max(p)\n",
    "        # getting state for which probability is maximum\n",
    "        state_max = T[p.index(pmax)] \n",
    "        state.append(state_max)\n",
    "    return list(zip(words, state))"
   ]
  },
  {
   "cell_type": "code",
   "execution_count": 56,
   "metadata": {},
   "outputs": [
    {
     "data": {
      "text/plain": [
       "[[('Argentine', 'JJ'),\n",
       "  ('negotiator', 'NN'),\n",
       "  ('Carlos', 'NNP'),\n",
       "  ('Carballo', 'NNP'),\n",
       "  ('was', 'VBD'),\n",
       "  ('in', 'IN'),\n",
       "  ('Washington', 'NNP'),\n",
       "  ('and', 'CC'),\n",
       "  ('New', 'NNP'),\n",
       "  ('York', 'NNP'),\n",
       "  ('this', 'DT'),\n",
       "  ('week', 'NN'),\n",
       "  ('*-1', '-NONE-'),\n",
       "  ('to', 'TO'),\n",
       "  ('meet', 'VB'),\n",
       "  ('with', 'IN'),\n",
       "  ('banks', 'NNS'),\n",
       "  ('.', '.')],\n",
       " [('The', 'DT'),\n",
       "  ('roofs', 'NNS'),\n",
       "  ('would', 'MD'),\n",
       "  ('be', 'VB'),\n",
       "  ('required', 'VBN'),\n",
       "  ('*-1', '-NONE-'),\n",
       "  ('to', 'TO'),\n",
       "  ('withstand', 'VB'),\n",
       "  ('a', 'DT'),\n",
       "  ('force', 'NN'),\n",
       "  ('of', 'IN'),\n",
       "  ('1.5', 'CD'),\n",
       "  ('times', 'NNS'),\n",
       "  ('the', 'DT'),\n",
       "  ('unloaded', 'JJ'),\n",
       "  ('weight', 'NN'),\n",
       "  ('of', 'IN'),\n",
       "  ('the', 'DT'),\n",
       "  ('vehicle', 'NN'),\n",
       "  ('.', '.')],\n",
       " [('California', 'NNP'),\n",
       "  (\"'s\", 'POS'),\n",
       "  ('education', 'NN'),\n",
       "  ('department', 'NN'),\n",
       "  ('suspects', 'VBZ'),\n",
       "  ('adult', 'NN'),\n",
       "  ('responsibility', 'NN'),\n",
       "  ('for', 'IN'),\n",
       "  ('erasures', 'NNS'),\n",
       "  ('at', 'IN'),\n",
       "  ('40', 'CD'),\n",
       "  ('schools', 'NNS'),\n",
       "  ('that', 'WDT'),\n",
       "  ('*T*-85', '-NONE-'),\n",
       "  ('changed', 'VBD'),\n",
       "  ('wrong', 'JJ'),\n",
       "  ('answers', 'NNS'),\n",
       "  ('to', 'TO'),\n",
       "  ('right', 'JJ'),\n",
       "  ('ones', 'NNS'),\n",
       "  ('on', 'IN'),\n",
       "  ('a', 'DT'),\n",
       "  ('statewide', 'JJ'),\n",
       "  ('test', 'NN'),\n",
       "  ('.', '.')],\n",
       " [('Besides', 'IN'),\n",
       "  (',', ','),\n",
       "  ('Eggers', 'NNP'),\n",
       "  ('says', 'VBZ'),\n",
       "  ('0', '-NONE-'),\n",
       "  ('*T*-1', '-NONE-'),\n",
       "  (',', ','),\n",
       "  ('grain', 'NN'),\n",
       "  ('elevators', 'NNS'),\n",
       "  ('are', 'VBP'),\n",
       "  ('worth', 'IN'),\n",
       "  ('*', '-NONE-'),\n",
       "  ('preserving', 'VBG'),\n",
       "  ('for', 'IN'),\n",
       "  ('aesthetic', 'JJ'),\n",
       "  ('reasons', 'NNS'),\n",
       "  ('--', ':'),\n",
       "  ('one', 'CD'),\n",
       "  ('famed', 'JJ'),\n",
       "  ('architect', 'NN'),\n",
       "  ('compared', 'VBD'),\n",
       "  ('them', 'PRP'),\n",
       "  ('to', 'TO'),\n",
       "  ('the', 'DT'),\n",
       "  ('pyramids', 'NNS'),\n",
       "  ('of', 'IN'),\n",
       "  ('Egypt', 'NNP'),\n",
       "  ('.', '.')],\n",
       " [('With', 'IN'),\n",
       "  ('the', 'DT'),\n",
       "  ('1985', 'CD'),\n",
       "  ('vintage', 'NN'),\n",
       "  (',', ','),\n",
       "  ('they', 'PRP'),\n",
       "  ('soared', 'VBD'),\n",
       "  ('higher', 'RBR'),\n",
       "  (':', ':'),\n",
       "  ('La', 'NNP'),\n",
       "  ('Tache', 'NNP'),\n",
       "  (',', ','),\n",
       "  ('$', '$'),\n",
       "  ('195', 'CD'),\n",
       "  ('*U*', '-NONE-'),\n",
       "  (';', ':'),\n",
       "  ('Richebourg', 'NNP'),\n",
       "  (',', ','),\n",
       "  ('$', '$'),\n",
       "  ('180', 'CD'),\n",
       "  ('*U*', '-NONE-'),\n",
       "  (';', ':'),\n",
       "  ('Romanee-Conti', 'NNP'),\n",
       "  (',', ','),\n",
       "  ('$', '$'),\n",
       "  ('225', 'CD'),\n",
       "  ('*U*', '-NONE-'),\n",
       "  ('.', '.')]]"
      ]
     },
     "execution_count": 56,
     "metadata": {},
     "output_type": "execute_result"
    }
   ],
   "source": [
    "# Running on entire test dataset would take more than 3-4hrs. \n",
    "# Let's test our Viterbi algorithm on a few sample sentences of test dataset\n",
    "\n",
    "random.seed(1234)\n",
    "\n",
    "# choose random 5 sents\n",
    "rndom = [random.randint(1,len(test_set)) for x in range(5)]\n",
    "\n",
    "# list of sents\n",
    "test_run = [test_set[i] for i in rndom]\n",
    "\n",
    "# list of tagged words\n",
    "test_run_base = [tup for sent in test_run for tup in sent]\n",
    "\n",
    "# list of untagged words\n",
    "test_tagged_words = [tup[0] for sent in test_run for tup in sent]\n",
    "test_run"
   ]
  },
  {
   "cell_type": "code",
   "execution_count": 57,
   "metadata": {},
   "outputs": [],
   "source": [
    "# tagging the test sentences\n",
    "start = time.time()\n",
    "tagged_seq = Viterbi(test_tagged_words)\n",
    "end = time.time()\n",
    "difference = end-start"
   ]
  },
  {
   "cell_type": "code",
   "execution_count": 58,
   "metadata": {},
   "outputs": [
    {
     "name": "stdout",
     "output_type": "stream",
     "text": [
      "Time taken in seconds:  85.6999921798706\n",
      "[('Argentine', '-LRB-'), ('negotiator', '-LRB-'), ('Carlos', 'NNP'), ('Carballo', '-LRB-'), ('was', '-LRB-'), ('in', 'IN'), ('Washington', 'NNP'), ('and', 'CC'), ('New', 'NNP'), ('York', 'NNP'), ('this', 'DT'), ('week', 'NN'), ('*-1', '-NONE-'), ('to', 'TO'), ('meet', 'VB'), ('with', 'IN'), ('banks', 'NNS'), ('.', '.'), ('The', 'DT'), ('roofs', 'NNS'), ('would', 'MD'), ('be', 'VB'), ('required', 'VBN'), ('*-1', '-NONE-'), ('to', 'TO'), ('withstand', 'VB'), ('a', 'DT'), ('force', 'NN'), ('of', 'IN'), ('1.5', 'CD'), ('times', 'NNS'), ('the', 'DT'), ('unloaded', '-LRB-'), ('weight', '-LRB-'), ('of', 'IN'), ('the', 'DT'), ('vehicle', 'NN'), ('.', '.'), ('California', 'NNP'), (\"'s\", 'POS'), ('education', 'NN'), ('department', 'NN'), ('suspects', 'NNS'), ('adult', 'NN'), ('responsibility', 'NN'), ('for', 'IN'), ('erasures', '-LRB-'), ('at', 'IN'), ('40', 'CD'), ('schools', 'NNS'), ('that', 'IN'), ('*T*-85', '-LRB-'), ('changed', 'VBN'), ('wrong', 'JJ'), ('answers', 'NNS'), ('to', 'TO'), ('right', 'NN'), ('ones', 'NNS'), ('on', 'IN'), ('a', 'DT'), ('statewide', 'JJ'), ('test', 'NN'), ('.', '.'), ('Besides', 'IN'), (',', ','), ('Eggers', 'NNP'), ('says', 'VBZ'), ('0', '-NONE-'), ('*T*-1', '-NONE-'), (',', ','), ('grain', 'NN'), ('elevators', 'NNS'), ('are', 'VBP'), ('worth', 'JJ'), ('*', '-NONE-'), ('preserving', '-LRB-'), ('for', 'IN'), ('aesthetic', '-LRB-'), ('reasons', 'NNS'), ('--', ':'), ('one', 'CD'), ('famed', '-LRB-'), ('architect', 'NN'), ('compared', 'VBN'), ('them', 'PRP'), ('to', 'TO'), ('the', 'DT'), ('pyramids', 'NNS'), ('of', 'IN'), ('Egypt', 'NNP'), ('.', '.'), ('With', 'IN'), ('the', 'DT'), ('1985', 'CD'), ('vintage', 'NN'), (',', ','), ('they', 'PRP'), ('soared', 'VBD'), ('higher', 'JJR'), (':', ':'), ('La', 'NNP'), ('Tache', 'NNP'), (',', ','), ('$', '$'), ('195', 'CD'), ('*U*', '-NONE-'), (';', ':'), ('Richebourg', 'NNP'), (',', ','), ('$', '$'), ('180', 'CD'), ('*U*', '-NONE-'), (';', ':'), ('Romanee-Conti', 'NNP'), (',', ','), ('$', '$'), ('225', 'CD'), ('*U*', '-NONE-'), ('.', '.')]\n"
     ]
    }
   ],
   "source": [
    "print(\"Time taken in seconds: \", difference)\n",
    "print(tagged_seq)\n",
    "#print(test_run_base)"
   ]
  },
  {
   "cell_type": "code",
   "execution_count": 60,
   "metadata": {},
   "outputs": [
    {
     "name": "stdout",
     "output_type": "stream",
     "text": [
      "accuracy =  0.8487394957983193\n"
     ]
    }
   ],
   "source": [
    "# accuracy\n",
    "check = [i for i, j in zip(tagged_seq, test_run_base) if i == j] \n",
    "print(\"accuracy = \", len(check)/len(tagged_seq))"
   ]
  },
  {
   "cell_type": "code",
   "execution_count": 61,
   "metadata": {
    "scrolled": true
   },
   "outputs": [
    {
     "data": {
      "text/plain": [
       "[[('.', '.'), (('Argentine', '-LRB-'), ('Argentine', 'JJ'))],\n",
       " [('Argentine', 'JJ'), (('negotiator', '-LRB-'), ('negotiator', 'NN'))],\n",
       " [('Carlos', 'NNP'), (('Carballo', '-LRB-'), ('Carballo', 'NNP'))],\n",
       " [('Carballo', 'NNP'), (('was', '-LRB-'), ('was', 'VBD'))],\n",
       " [('the', 'DT'), (('unloaded', '-LRB-'), ('unloaded', 'JJ'))],\n",
       " [('unloaded', 'JJ'), (('weight', '-LRB-'), ('weight', 'NN'))],\n",
       " [('department', 'NN'), (('suspects', 'NNS'), ('suspects', 'VBZ'))],\n",
       " [('for', 'IN'), (('erasures', '-LRB-'), ('erasures', 'NNS'))],\n",
       " [('schools', 'NNS'), (('that', 'IN'), ('that', 'WDT'))],\n",
       " [('that', 'WDT'), (('*T*-85', '-LRB-'), ('*T*-85', '-NONE-'))],\n",
       " [('*T*-85', '-NONE-'), (('changed', 'VBN'), ('changed', 'VBD'))],\n",
       " [('to', 'TO'), (('right', 'NN'), ('right', 'JJ'))],\n",
       " [('are', 'VBP'), (('worth', 'JJ'), ('worth', 'IN'))],\n",
       " [('*', '-NONE-'), (('preserving', '-LRB-'), ('preserving', 'VBG'))],\n",
       " [('for', 'IN'), (('aesthetic', '-LRB-'), ('aesthetic', 'JJ'))],\n",
       " [('one', 'CD'), (('famed', '-LRB-'), ('famed', 'JJ'))],\n",
       " [('architect', 'NN'), (('compared', 'VBN'), ('compared', 'VBD'))],\n",
       " [('soared', 'VBD'), (('higher', 'JJR'), ('higher', 'RBR'))]]"
      ]
     },
     "execution_count": 61,
     "metadata": {},
     "output_type": "execute_result"
    }
   ],
   "source": [
    "incorrect_tagged_cases = [[test_run_base[i-1],j] for i, j in enumerate(zip(tagged_seq, test_run_base)) if j[0]!=j[1]]\n",
    "incorrect_tagged_cases"
   ]
  },
  {
   "cell_type": "code",
   "execution_count": 62,
   "metadata": {},
   "outputs": [],
   "source": [
    "## Testing\n",
    "sentence_test = 'Twitter is the best networking social site. Man is a social animal. Data science is an emerging field. Data science jobs are high in demand.'\n",
    "words = word_tokenize(sentence_test)\n",
    "\n",
    "start = time.time()\n",
    "tagged_seq = Viterbi(words)\n",
    "end = time.time()\n",
    "difference = end-start"
   ]
  },
  {
   "cell_type": "code",
   "execution_count": 63,
   "metadata": {},
   "outputs": [
    {
     "name": "stdout",
     "output_type": "stream",
     "text": [
      "[('Twitter', '-LRB-'), ('is', '-LRB-'), ('the', 'DT'), ('best', 'JJS'), ('networking', '-LRB-'), ('social', 'JJ'), ('site', '-LRB-'), ('.', '-LRB-'), ('Man', 'NNP'), ('is', 'VBZ'), ('a', 'DT'), ('social', 'JJ'), ('animal', '-LRB-'), ('.', '-LRB-'), ('Data', '-LRB-'), ('science', 'NN'), ('is', 'VBZ'), ('an', 'DT'), ('emerging', 'VBG'), ('field', 'NN'), ('.', '.'), ('Data', '-LRB-'), ('science', 'NN'), ('jobs', 'NNS'), ('are', 'VBP'), ('high', 'JJ'), ('in', 'IN'), ('demand', 'NN'), ('.', '.')]\n",
      "18.772403478622437\n"
     ]
    }
   ],
   "source": [
    "print(tagged_seq)\n",
    "print(difference)"
   ]
  },
  {
   "cell_type": "code",
   "execution_count": null,
   "metadata": {},
   "outputs": [],
   "source": []
  }
 ],
 "metadata": {
  "kernelspec": {
   "display_name": "Python 3",
   "language": "python",
   "name": "python3"
  },
  "language_info": {
   "codemirror_mode": {
    "name": "ipython",
    "version": 3
   },
   "file_extension": ".py",
   "mimetype": "text/x-python",
   "name": "python",
   "nbconvert_exporter": "python",
   "pygments_lexer": "ipython3",
   "version": "3.7.4"
  }
 },
 "nbformat": 4,
 "nbformat_minor": 2
}
