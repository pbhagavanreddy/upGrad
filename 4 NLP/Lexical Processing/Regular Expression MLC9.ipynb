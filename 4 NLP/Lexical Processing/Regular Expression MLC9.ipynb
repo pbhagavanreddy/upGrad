{
 "cells": [
  {
   "cell_type": "markdown",
   "metadata": {},
   "source": [
    "## Regular Expresions"
   ]
  },
  {
   "cell_type": "code",
   "execution_count": 1,
   "metadata": {
    "collapsed": true
   },
   "outputs": [],
   "source": [
    "# Let's import re\n",
    "import re"
   ]
  },
  {
   "cell_type": "markdown",
   "metadata": {},
   "source": [
    "### Match and Search"
   ]
  },
  {
   "cell_type": "code",
   "execution_count": 6,
   "metadata": {},
   "outputs": [
    {
     "data": {
      "text/plain": [
       "<_sre.SRE_Match object; span=(0, 2), match='up'>"
      ]
     },
     "execution_count": 6,
     "metadata": {},
     "output_type": "execute_result"
    }
   ],
   "source": [
    "sample_str = \"upGrad is a great institution\"\n",
    "re.match(r'up', sample_str)# Trying to match a item if it occurs at the start of the string"
   ]
  },
  {
   "cell_type": "code",
   "execution_count": 8,
   "metadata": {},
   "outputs": [
    {
     "data": {
      "text/plain": [
       "<_sre.SRE_Match object; span=(12, 17), match='great'>"
      ]
     },
     "execution_count": 8,
     "metadata": {},
     "output_type": "execute_result"
    }
   ],
   "source": [
    "sample_str = \"upGrad is a great institution and a great place to work 3\"\n",
    "re.search(r'great', sample_str)# Return the first matched object "
   ]
  },
  {
   "cell_type": "code",
   "execution_count": 18,
   "metadata": {},
   "outputs": [
    {
     "name": "stdout",
     "output_type": "stream",
     "text": [
      "a \\n b\n"
     ]
    }
   ],
   "source": [
    "# r: Raw String\n",
    "print('a', r'\\n', 'b')"
   ]
  },
  {
   "cell_type": "code",
   "execution_count": 16,
   "metadata": {},
   "outputs": [
    {
     "data": {
      "text/plain": [
       "['great', 'great']"
      ]
     },
     "execution_count": 16,
     "metadata": {},
     "output_type": "execute_result"
    }
   ],
   "source": [
    "sample_str = \"upGrad is a great institution and a great place to work\"\n",
    "re.findall(r'great', sample_str)"
   ]
  },
  {
   "cell_type": "markdown",
   "metadata": {},
   "source": [
    "### To match patters: Patters that are available in RE: Wild Card Characters"
   ]
  },
  {
   "cell_type": "code",
   "execution_count": null,
   "metadata": {
    "collapsed": true
   },
   "outputs": [],
   "source": [
    "[], ., ^, $, *, +, ?, {}, (), \\, |"
   ]
  },
  {
   "cell_type": "code",
   "execution_count": 21,
   "metadata": {},
   "outputs": [
    {
     "data": {
      "text/plain": [
       "['o', 'P', 't', 'o']"
      ]
     },
     "execution_count": 21,
     "metadata": {},
     "output_type": "execute_result"
    }
   ],
   "source": [
    "## []: Square Brackets: Help you to specif the set of charcters you wanted to match\n",
    "sample_str = 'I love Python'\n",
    "re.findall(r'[Pto]', sample_str)"
   ]
  },
  {
   "cell_type": "code",
   "execution_count": 22,
   "metadata": {},
   "outputs": [
    {
     "data": {
      "text/plain": [
       "['l', 'o', 'v', 'e', 'y', 't', 'h', 'o', 'n']"
      ]
     },
     "execution_count": 22,
     "metadata": {},
     "output_type": "execute_result"
    }
   ],
   "source": [
    "sample_str = 'I love Python'\n",
    "re.findall(r'[a-z]', sample_str)"
   ]
  },
  {
   "cell_type": "code",
   "execution_count": 24,
   "metadata": {},
   "outputs": [
    {
     "data": {
      "text/plain": [
       "['I', 'l', 'o', 'v', 'e', 'P', 'y', 't', 'h', 'o', 'n']"
      ]
     },
     "execution_count": 24,
     "metadata": {},
     "output_type": "execute_result"
    }
   ],
   "source": [
    "sample_str = 'I love Python3'\n",
    "re.findall(r'[a-zA-Z]', sample_str)"
   ]
  },
  {
   "cell_type": "code",
   "execution_count": 25,
   "metadata": {},
   "outputs": [
    {
     "data": {
      "text/plain": [
       "['I', 'l', 'o', 'v', 'e', 'P', 'y', 't', 'h', 'o', 'n', '3']"
      ]
     },
     "execution_count": 25,
     "metadata": {},
     "output_type": "execute_result"
    }
   ],
   "source": [
    "sample_str = 'I love Python3'\n",
    "re.findall(r'[a-zA-Z0-9]', sample_str)"
   ]
  },
  {
   "cell_type": "code",
   "execution_count": 26,
   "metadata": {},
   "outputs": [
    {
     "data": {
      "text/plain": [
       "[' ', ' ']"
      ]
     },
     "execution_count": 26,
     "metadata": {},
     "output_type": "execute_result"
    }
   ],
   "source": [
    "sample_str = 'I love Python3'\n",
    "re.findall(r'[^a-zA-Z0-9]', sample_str)"
   ]
  },
  {
   "cell_type": "code",
   "execution_count": 28,
   "metadata": {},
   "outputs": [
    {
     "data": {
      "text/plain": [
       "['I', ' ', 'l', 'o', 'v', 'e', ' ', 'P', 'y', 't', 'h', 'o', 'n', '3', '$']"
      ]
     },
     "execution_count": 28,
     "metadata": {},
     "output_type": "execute_result"
    }
   ],
   "source": [
    "## . Period:Match any single char except a new line char'\\n'\n",
    "sample_str = 'I love Python3'\n",
    "re.findall(r'.', sample_str)"
   ]
  },
  {
   "cell_type": "code",
   "execution_count": 30,
   "metadata": {},
   "outputs": [
    {
     "data": {
      "text/plain": [
       "['I']"
      ]
     },
     "execution_count": 30,
     "metadata": {},
     "output_type": "execute_result"
    }
   ],
   "source": [
    "## ^: Caret: used to check if the string starts with a certain char.\n",
    "sample_str = 'I love Python3'\n",
    "re.findall(r'^I', sample_str)"
   ]
  },
  {
   "cell_type": "code",
   "execution_count": 31,
   "metadata": {},
   "outputs": [
    {
     "name": "stdout",
     "output_type": "stream",
     "text": [
      "[['P'], [], [], []]\n"
     ]
    }
   ],
   "source": [
    "sample_str = ['Python', 'SAS', 'R', 'Spark']\n",
    "result = []\n",
    "for i in sample_str:\n",
    "    result.append(re.findall(r'^P', i))\n",
    "print(result)"
   ]
  },
  {
   "cell_type": "code",
   "execution_count": 33,
   "metadata": {},
   "outputs": [
    {
     "data": {
      "text/plain": [
       "['3']"
      ]
     },
     "execution_count": 33,
     "metadata": {},
     "output_type": "execute_result"
    }
   ],
   "source": [
    "## $- Dollar: Used to check if a string ends with a certain chr.\n",
    "sample_str = 'I love Python3'\n",
    "re.findall(r'3$', sample_str)"
   ]
  },
  {
   "cell_type": "code",
   "execution_count": 34,
   "metadata": {},
   "outputs": [
    {
     "name": "stdout",
     "output_type": "stream",
     "text": [
      "[[], ['S'], [], []]\n"
     ]
    }
   ],
   "source": [
    "sample_str = ['Python', 'SAS', 'R', 'Spark']\n",
    "result = []\n",
    "for i in sample_str:\n",
    "    result.append(re.findall(r'S$', i))\n",
    "print(result)"
   ]
  },
  {
   "cell_type": "code",
   "execution_count": 36,
   "metadata": {},
   "outputs": [
    {
     "name": "stdout",
     "output_type": "stream",
     "text": [
      "['sd', 'sd', 's', 's', 'sddd', 'sddd', 'sddd', 'sd', 's', 's', 's', 's', 's', 's', 'sdddd']\n"
     ]
    }
   ],
   "source": [
    "## *- Star: Match zero or more occurance of the patter at left\n",
    "test_phrase = 'sdsd..sssddd...sdddsddd...dsds...dsssss...sdddd'\n",
    "print(re.findall(r'sd*', test_phrase))"
   ]
  },
  {
   "cell_type": "code",
   "execution_count": 37,
   "metadata": {},
   "outputs": [
    {
     "name": "stdout",
     "output_type": "stream",
     "text": [
      "['sd', 'sd', 'sddd', 'sddd', 'sddd', 'sd', 'sdddd']\n"
     ]
    }
   ],
   "source": [
    "## +-Plus: Match one or more occurance of the patter at left\n",
    "test_phrase = 'sdsd..sssddd...sdddsddd...dsds...dsssss...sdddd'\n",
    "print(re.findall(r'sd+', test_phrase))"
   ]
  },
  {
   "cell_type": "code",
   "execution_count": 38,
   "metadata": {},
   "outputs": [
    {
     "name": "stdout",
     "output_type": "stream",
     "text": [
      "['sd', 'sd', 's', 's', 'sd', 'sd', 'sd', 'sd', 's', 's', 's', 's', 's', 's', 'sd']\n"
     ]
    }
   ],
   "source": [
    "## ?-QuestionMarks: Matches zero or one occurance of the pattern at left\n",
    "test_phrase = 'sdsd..sssddd...sdddsddd...dsds...dsssss...sdddd'\n",
    "print(re.findall(r'sd?', test_phrase))"
   ]
  },
  {
   "cell_type": "code",
   "execution_count": 46,
   "metadata": {},
   "outputs": [
    {
     "name": "stdout",
     "output_type": "stream",
     "text": [
      "['sd', 'sd', 'sssd', 'sd', 'sd', 'sd', 'sd']\n"
     ]
    }
   ],
   "source": [
    "test_phrase = 'sdsd..sssddd...sdddsddd...dsds...dsssss...sdddd'\n",
    "print(re.findall(r's+d', test_phrase))"
   ]
  },
  {
   "cell_type": "raw",
   "metadata": {},
   "source": [
    "*: Zero or more occurance of the paater at left\n",
    "+: One or more\n",
    "?: Zero or one\n",
    "{n,m}:  Specify the range"
   ]
  },
  {
   "cell_type": "code",
   "execution_count": 41,
   "metadata": {},
   "outputs": [
    {
     "name": "stdout",
     "output_type": "stream",
     "text": [
      "['sd', 'sd', 'sdd', 'sdd', 'sdd', 'sd', 'sdd']\n"
     ]
    }
   ],
   "source": [
    "# {}: Braces Mention the range: {n,m} atleast n time and atmost m time\n",
    "test_phrase = 'sdsd..sssddd...sdddsddd...dsds...dsssss...sdddd'\n",
    "print(re.findall(r'sd{1,2}', test_phrase))"
   ]
  },
  {
   "cell_type": "code",
   "execution_count": 44,
   "metadata": {},
   "outputs": [
    {
     "name": "stdout",
     "output_type": "stream",
     "text": [
      "['s', 'd', 's', 'd', 's', 's', 's', 'd', 'd', 'd', 's', 'd', 'd', 'd', 's', 'd', 'd', 'd', 'd', 's', 'd', 's', 'd', 's', 's', 's', 's', 's', 's', 'd', 'd', 'd', 'd']\n"
     ]
    }
   ],
   "source": [
    "#  |-or: a|b: a or b\n",
    "test_phrase = 'sdsd..sssddd...sdddsddd...dsds...dsssss...sdddd'\n",
    "print(re.findall(r's|d|a', test_phrase))"
   ]
  },
  {
   "cell_type": "code",
   "execution_count": 48,
   "metadata": {},
   "outputs": [
    {
     "name": "stdout",
     "output_type": "stream",
     "text": [
      "['c', 'b', 'n', 'n']\n"
     ]
    }
   ],
   "source": [
    "# (): Group:Match any string that matches either object in the group\n",
    "test_phrase = 'abcx...abx..mnx..nnx'\n",
    "print(re.findall(r'(a|b|c|n)x', test_phrase))"
   ]
  },
  {
   "cell_type": "code",
   "execution_count": 50,
   "metadata": {},
   "outputs": [
    {
     "data": {
      "text/plain": [
       "['3']"
      ]
     },
     "execution_count": 50,
     "metadata": {},
     "output_type": "execute_result"
    }
   ],
   "source": [
    "## /b: Specified char at the beginning or end of a string\n",
    "## ^, $\n",
    "sample_str = 'I love Python3'\n",
    "re.findall(r'3\\b', sample_str)"
   ]
  },
  {
   "cell_type": "code",
   "execution_count": 59,
   "metadata": {},
   "outputs": [
    {
     "data": {
      "text/plain": [
       "['I', 'I']"
      ]
     },
     "execution_count": 59,
     "metadata": {},
     "output_type": "execute_result"
    }
   ],
   "source": [
    "## \\B: If the specified chars are not at the beginning or end of the string\n",
    "sample_str = 'I love Python3 aI aI'\n",
    "re.findall(r'\\BI', sample_str)"
   ]
  },
  {
   "cell_type": "code",
   "execution_count": 63,
   "metadata": {},
   "outputs": [
    {
     "data": {
      "text/plain": [
       "['I']"
      ]
     },
     "execution_count": 63,
     "metadata": {},
     "output_type": "execute_result"
    }
   ],
   "source": [
    "sample_str = 'I love IPython3 aI aI'\n",
    "re.findall(r'I\\B', sample_str)"
   ]
  },
  {
   "cell_type": "code",
   "execution_count": 66,
   "metadata": {},
   "outputs": [
    {
     "data": {
      "text/plain": [
       "['3']"
      ]
     },
     "execution_count": 66,
     "metadata": {},
     "output_type": "execute_result"
    }
   ],
   "source": [
    "## \\d: Digit: [0-9]\n",
    "sample_str = 'I love Python3'\n",
    "re.findall(r'\\d', sample_str)"
   ]
  },
  {
   "cell_type": "code",
   "execution_count": 67,
   "metadata": {},
   "outputs": [
    {
     "data": {
      "text/plain": [
       "['I', ' ', 'l', 'o', 'v', 'e', ' ', 'P', 'y', 't', 'h', 'o', 'n']"
      ]
     },
     "execution_count": 67,
     "metadata": {},
     "output_type": "execute_result"
    }
   ],
   "source": [
    "## \\D: [^0-9]\n",
    "sample_str = 'I love Python3'\n",
    "re.findall(r'\\D', sample_str)"
   ]
  },
  {
   "cell_type": "code",
   "execution_count": 68,
   "metadata": {},
   "outputs": [
    {
     "data": {
      "text/plain": [
       "['I', ' ', 'l', 'o', 'v', 'e', ' ', 'P', 'y', 't', 'h', 'o', 'n']"
      ]
     },
     "execution_count": 68,
     "metadata": {},
     "output_type": "execute_result"
    }
   ],
   "source": [
    "sample_str = 'I love Python3'\n",
    "re.findall(r'[^0-9]', sample_str)"
   ]
  },
  {
   "cell_type": "code",
   "execution_count": 69,
   "metadata": {},
   "outputs": [
    {
     "data": {
      "text/plain": [
       "[' ', ' ']"
      ]
     },
     "execution_count": 69,
     "metadata": {},
     "output_type": "execute_result"
    }
   ],
   "source": [
    "## \\s: Match any whitespace char\n",
    "sample_str = 'I love Python3'\n",
    "re.findall(r'\\s', sample_str)"
   ]
  },
  {
   "cell_type": "code",
   "execution_count": 70,
   "metadata": {},
   "outputs": [
    {
     "data": {
      "text/plain": [
       "['I', 'l', 'o', 'v', 'e', 'P', 'y', 't', 'h', 'o', 'n', '3']"
      ]
     },
     "execution_count": 70,
     "metadata": {},
     "output_type": "execute_result"
    }
   ],
   "source": [
    "## \\S: Match any non-whitespace char\n",
    "sample_str = 'I love Python3'\n",
    "re.findall(r'\\S', sample_str)"
   ]
  },
  {
   "cell_type": "code",
   "execution_count": 71,
   "metadata": {},
   "outputs": [
    {
     "data": {
      "text/plain": [
       "['I', 'l', 'o', 'v', 'e', 'P', 'y', 't', 'h', 'o', 'n', '3']"
      ]
     },
     "execution_count": 71,
     "metadata": {},
     "output_type": "execute_result"
    }
   ],
   "source": [
    "## \\w: Alphnumeric char==[a-zA-Z0-9]\n",
    "sample_str = 'I love Python3'\n",
    "re.findall(r'\\w', sample_str)"
   ]
  },
  {
   "cell_type": "code",
   "execution_count": 72,
   "metadata": {},
   "outputs": [
    {
     "data": {
      "text/plain": [
       "[' ', ' ']"
      ]
     },
     "execution_count": 72,
     "metadata": {},
     "output_type": "execute_result"
    }
   ],
   "source": [
    "## \\W: Non-Alphnumeric char==[^a-zA-Z0-9]\n",
    "sample_str = 'I love Python3'\n",
    "re.findall(r'\\W', sample_str)"
   ]
  },
  {
   "cell_type": "code",
   "execution_count": 79,
   "metadata": {},
   "outputs": [
    {
     "name": "stdout",
     "output_type": "stream",
     "text": [
      "['X-Sieve:']\n",
      "['X-DSPAM-Result:']\n",
      "['X-DSPAM-Confidence:']\n",
      "['X-Plane is behind shedule:']\n"
     ]
    }
   ],
   "source": [
    "## Question-1:\n",
    "## Match all the items which starts with X ends with :\n",
    "example = 'X-Sieve:,X-DSPAM-Result: Innocent,X-DSPAM-Confidence: 0.8475,X-Plane is behind shedule: two weeks'\n",
    "sample  = example.split(',')\n",
    "for i in sample:\n",
    "    res = re.findall(r'^X.*:', i)\n",
    "    print(res)"
   ]
  },
  {
   "cell_type": "code",
   "execution_count": 81,
   "metadata": {},
   "outputs": [
    {
     "data": {
      "text/plain": [
       "['2', '19', '42']"
      ]
     },
     "execution_count": 81,
     "metadata": {},
     "output_type": "execute_result"
    }
   ],
   "source": [
    "## Question-2:\n",
    "## Extract all the nubers in the string X = 'My 2 favorite numbers are 19 and 42': [2, 19, 42]\n",
    "x = 'My 2 favorite numbers are 19 and 42'\n",
    "re.findall(r'\\d+', x)"
   ]
  },
  {
   "cell_type": "code",
   "execution_count": 82,
   "metadata": {},
   "outputs": [
    {
     "data": {
      "text/plain": [
       "['2', '19', '42']"
      ]
     },
     "execution_count": 82,
     "metadata": {},
     "output_type": "execute_result"
    }
   ],
   "source": [
    "x = 'My 2 favorite numbers are 19 and 42'\n",
    "re.findall(r'[0-9]+', x)"
   ]
  },
  {
   "cell_type": "code",
   "execution_count": 84,
   "metadata": {},
   "outputs": [
    {
     "data": {
      "text/plain": [
       "['My', 'favorite', 'numbers', 'are', 'and']"
      ]
     },
     "execution_count": 84,
     "metadata": {},
     "output_type": "execute_result"
    }
   ],
   "source": [
    "## Question-3: \n",
    "## My 2 favorite numbers are 19 and 42': ['My', 'favourite', 'numbers'..]\n",
    "x = 'My 2 favorite numbers are 19 and 42'\n",
    "re.findall(r'[a-zA-z]+', x)"
   ]
  },
  {
   "cell_type": "code",
   "execution_count": 88,
   "metadata": {},
   "outputs": [
    {
     "name": "stdout",
     "output_type": "stream",
     "text": [
      "[]\n",
      "[]\n",
      "['Australia']\n",
      "['aboveboard']\n",
      "['information']\n",
      "[]\n",
      "['equation']\n",
      "[]\n",
      "[]\n",
      "[]\n"
     ]
    }
   ],
   "source": [
    "## Question-4:\n",
    "## Return all the words that start with a vowel: Split: List with all items\n",
    "x = 'beautiful,California,Australia,aboveboard,information,preposition,equation,literature,secretary,quadrillion'\n",
    "sample = x.split(',')\n",
    "for i in sample:\n",
    "    res = re.findall(r'^[aeiouAEIOU][a-zA-Z]+', i)\n",
    "    print(res)"
   ]
  },
  {
   "cell_type": "code",
   "execution_count": 95,
   "metadata": {},
   "outputs": [
    {
     "data": {
      "text/plain": [
       "['@uct.ac.du.in', '@gmail.com', '@upgrad.com', '@ixigo.in']"
      ]
     },
     "execution_count": 95,
     "metadata": {},
     "output_type": "execute_result"
    }
   ],
   "source": [
    "## Question-5:\n",
    "## Return all the domain of the emails: [@uct.ac.du.in, @gmail.com, @upgrad.com, @ixigo.in]\n",
    "x ='From stephen_99.marquard@uct.ac.du.in Sat Jan 5 09:14:16 2008 rock9935@gmail.com sumit@upgrad.com puneet@ixigo.in'\n",
    "re.findall(r'@[A-z.]+', x)\n",
    "# r'@\\S+'\n",
    "# A-z: a-zA-Z"
   ]
  },
  {
   "cell_type": "code",
   "execution_count": 97,
   "metadata": {},
   "outputs": [
    {
     "data": {
      "text/plain": [
       "['stephen_99.marquard@uct.ac.du.in',\n",
       " 'rock9935@gmail.com',\n",
       " 'sumit@upgrad.com',\n",
       " 'puneet@ixigo.in']"
      ]
     },
     "execution_count": 97,
     "metadata": {},
     "output_type": "execute_result"
    }
   ],
   "source": [
    "## Question-6:\n",
    "x ='From stephen_99.marquard@uct.ac.du.in Sat Jan 5 09:14:16 2008 rock9935@gmail.com sumit@upgrad.com puneet@ixigo.in'\n",
    "re.findall(r'[A-z0-9._-]+@[A-z.]+', x)"
   ]
  },
  {
   "cell_type": "code",
   "execution_count": 98,
   "metadata": {},
   "outputs": [
    {
     "data": {
      "text/plain": [
       "['stephen_99.marquard@uct.ac.du.in',\n",
       " 'rock9935@gmail.com',\n",
       " 'sumit@upgrad.com',\n",
       " 'puneet@ixigo.in']"
      ]
     },
     "execution_count": 98,
     "metadata": {},
     "output_type": "execute_result"
    }
   ],
   "source": [
    "x ='From stephen_99.marquard@uct.ac.du.in Sat Jan 5 09:14:16 2008 rock9935@gmail.com sumit@upgrad.com puneet@ixigo.in'\n",
    "re.findall(r'[\\w._-]+@[A-z.]+', x)"
   ]
  },
  {
   "cell_type": "code",
   "execution_count": 100,
   "metadata": {},
   "outputs": [
    {
     "name": "stdout",
     "output_type": "stream",
     "text": [
      "['9999999999']\n",
      "[]\n",
      "[]\n"
     ]
    }
   ],
   "source": [
    "## Question-7:\n",
    "## Validate a phone number: 10digits starts with either 8 or 9. Retrun Yes if the number is valid, else no\n",
    "li=['9999999999','999999-999','99999x9999']\n",
    "for i in li:\n",
    "    res = re.findall(r'^[8-9][0-9]{9}', i)\n",
    "    print(res)"
   ]
  },
  {
   "cell_type": "code",
   "execution_count": 102,
   "metadata": {},
   "outputs": [
    {
     "data": {
      "text/plain": [
       "[' ', ';', ',', ',', ',']"
      ]
     },
     "execution_count": 102,
     "metadata": {},
     "output_type": "execute_result"
    }
   ],
   "source": [
    "## Question-8:\n",
    "## retun the delimiters(\" \", \";\", \",\")\n",
    "line = 'asdf fjdk;afed,fjek,asdf,foo'#['',';',',',',',',',']\n",
    "re.findall(r'\\W', line)\n",
    "# r'[\\s,;]'\n",
    "# r'[\\W]"
   ]
  },
  {
   "cell_type": "code",
   "execution_count": 103,
   "metadata": {},
   "outputs": [
    {
     "data": {
      "text/plain": [
       "['2016-05-25', '2016-05-25', '2016-05-25', '2016-05-25']"
      ]
     },
     "execution_count": 103,
     "metadata": {},
     "output_type": "execute_result"
    }
   ],
   "source": [
    "## Question-9:\n",
    "# Return the date fro  the given string of timestamp\n",
    "dates = \"2016-05-25T21:19:47.123+08, 2016-05-25 21:19:47-08, 2016-05-25 21:19:47Z, 2016-05-25 21:19:00.123+23:45\"\n",
    "re.findall(r'\\d{4}-\\d{2}-\\d{2}', dates)"
   ]
  },
  {
   "cell_type": "code",
   "execution_count": 111,
   "metadata": {},
   "outputs": [
    {
     "name": "stdout",
     "output_type": "stream",
     "text": [
      "['Sumit']\n",
      "['Shukla']\n",
      "[]\n",
      "['India']\n",
      "[]\n"
     ]
    }
   ],
   "source": [
    "## Question-10:\n",
    "# Find all words that starts with a capital letter and followed by small letter: Sumit, Python, upGrad\n",
    "x = \"Sumit,Shukla,upGrad,India,Sh30\"\n",
    "for i in x.split(','):\n",
    "    res = re.findall(r'^[A-Z]{1}[a-z]+$', i)\n",
    "    print(res)"
   ]
  },
  {
   "cell_type": "code",
   "execution_count": 112,
   "metadata": {},
   "outputs": [
    {
     "name": "stdout",
     "output_type": "stream",
     "text": [
      "['Zebra']\n",
      "['Zing']\n",
      "[]\n",
      "['lazy']\n"
     ]
    }
   ],
   "source": [
    "## Question-11:\n",
    "# Find all the word that have letter Z\n",
    "x = \"Zebra,Zing,upGrad,lazy\"\n",
    "for i in x.split(','):\n",
    "    res = re.findall(r'[A-z]*[zZ][A-z]*', i)\n",
    "    print(res)"
   ]
  }
 ],
 "metadata": {
  "kernelspec": {
   "display_name": "Python 3",
   "language": "python",
   "name": "python3"
  },
  "language_info": {
   "codemirror_mode": {
    "name": "ipython",
    "version": 3
   },
   "file_extension": ".py",
   "mimetype": "text/x-python",
   "name": "python",
   "nbconvert_exporter": "python",
   "pygments_lexer": "ipython3",
   "version": "3.7.4"
  }
 },
 "nbformat": 4,
 "nbformat_minor": 2
}
