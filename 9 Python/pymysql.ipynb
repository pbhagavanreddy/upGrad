{
 "cells": [
  {
   "cell_type": "code",
   "execution_count": 3,
   "metadata": {},
   "outputs": [
    {
     "name": "stdout",
     "output_type": "stream",
     "text": [
      "Collecting PyMySQL\n",
      "  Downloading https://files.pythonhosted.org/packages/2c/57/af502e0e113f139b3f3add4f1efba899a730a365d2264d476e85b9591da5/PyMySQL-0.10.0-py2.py3-none-any.whl (47kB)\n",
      "Installing collected packages: PyMySQL\n",
      "Successfully installed PyMySQL-0.10.0\n"
     ]
    }
   ],
   "source": [
    "!pip install PyMySQL"
   ]
  },
  {
   "cell_type": "code",
   "execution_count": 4,
   "metadata": {},
   "outputs": [],
   "source": [
    "import pymysql"
   ]
  },
  {
   "cell_type": "code",
   "execution_count": 10,
   "metadata": {},
   "outputs": [],
   "source": [
    "conn = pymysql.connect(host = \"dbsrd3596\", user = \"iuxd_own\", password = \"ae4B93Eb\", database=\"iuxd01\")"
   ]
  },
  {
   "cell_type": "code",
   "execution_count": 11,
   "metadata": {},
   "outputs": [],
   "source": [
    "c = conn.cursor()"
   ]
  },
  {
   "cell_type": "code",
   "execution_count": 22,
   "metadata": {},
   "outputs": [
    {
     "name": "stdout",
     "output_type": "stream",
     "text": [
      "('00225052848', 'Y')\n",
      "(('45802058084', 'N'), ('45802058062', 'N'), ('00378932032', 'N'), ('00378932132', 'N'), ('00378932232', 'N'), ('00078034642', 'N'), ('00078034642', 'N'), ('00078034542', 'N'), ('15370015004', 'N'), ('66993060536', 'N'), ('62559011107', 'N'), ('00093598627', 'N'), ('00093598627', 'N'), ('05928004530', 'N'), ('45802058084', 'N'), ('70007040036', 'N'), ('64597031108', 'N'), ('63323064907', 'N'), ('00093598627', 'N'), ('51801000140', 'N'), ('45802058062', 'N'), ('00378932132', 'N'), ('00078034642', 'N'), ('00078034642', 'N'), ('00225052547', 'N'), ('00093360982', 'N'), ('00378932132', 'N'), ('00378932032', 'N'), ('00078034542', 'N'), ('66993060536', 'N'), ('00378932032', 'N'), ('00378932232', 'N'), ('00378932032', 'N'), ('00093598527', 'N'), ('05928004530', 'N'), ('05928004530', 'N'), ('45802058062', 'N'), ('00378932132', 'N'), ('00378932232', 'N'), ('00245003623', 'N'), ('00093598527', 'N'), ('05928000099', 'N'), ('00378932232', 'N'), ('00078034542', 'N'))\n"
     ]
    }
   ],
   "source": [
    "# Write the SQL you needed here\n",
    "c.execute(\"SELECT * from TS04_HDP_NDC;\")\n",
    "\n",
    "#Use fetchone to get only first row\n",
    "first_row = c.fetchone()\n",
    "print(first_row)\n",
    "\n",
    "#Use fetchall to get all rows\n",
    "all_rows = c.fetchall()\n",
    "print(all_rows)"
   ]
  },
  {
   "cell_type": "code",
   "execution_count": 16,
   "metadata": {},
   "outputs": [
    {
     "name": "stdout",
     "output_type": "stream",
     "text": [
      "(('45802058084', 'N'), ('45802058062', 'N'), ('00378932032', 'N'), ('00378932132', 'N'), ('00378932232', 'N'), ('00078034642', 'N'), ('00078034642', 'N'), ('00078034542', 'N'), ('15370015004', 'N'), ('66993060536', 'N'))\n"
     ]
    }
   ],
   "source": [
    "# To retrieve only first 10 rows\n",
    "print(all_rows[0:10])"
   ]
  },
  {
   "cell_type": "code",
   "execution_count": 21,
   "metadata": {},
   "outputs": [
    {
     "data": {
      "text/html": [
       "<div>\n",
       "<style scoped>\n",
       "    .dataframe tbody tr th:only-of-type {\n",
       "        vertical-align: middle;\n",
       "    }\n",
       "\n",
       "    .dataframe tbody tr th {\n",
       "        vertical-align: top;\n",
       "    }\n",
       "\n",
       "    .dataframe thead th {\n",
       "        text-align: right;\n",
       "    }\n",
       "</style>\n",
       "<table border=\"1\" class=\"dataframe\">\n",
       "  <thead>\n",
       "    <tr style=\"text-align: right;\">\n",
       "      <th></th>\n",
       "      <th>NDC</th>\n",
       "      <th>Process_Status</th>\n",
       "    </tr>\n",
       "  </thead>\n",
       "  <tbody>\n",
       "    <tr>\n",
       "      <th>0</th>\n",
       "      <td>45802058084</td>\n",
       "      <td>N</td>\n",
       "    </tr>\n",
       "    <tr>\n",
       "      <th>1</th>\n",
       "      <td>45802058062</td>\n",
       "      <td>N</td>\n",
       "    </tr>\n",
       "    <tr>\n",
       "      <th>2</th>\n",
       "      <td>00378932032</td>\n",
       "      <td>N</td>\n",
       "    </tr>\n",
       "    <tr>\n",
       "      <th>3</th>\n",
       "      <td>00378932132</td>\n",
       "      <td>N</td>\n",
       "    </tr>\n",
       "    <tr>\n",
       "      <th>4</th>\n",
       "      <td>00378932232</td>\n",
       "      <td>N</td>\n",
       "    </tr>\n",
       "  </tbody>\n",
       "</table>\n",
       "</div>"
      ],
      "text/plain": [
       "           NDC Process_Status\n",
       "0  45802058084              N\n",
       "1  45802058062              N\n",
       "2  00378932032              N\n",
       "3  00378932132              N\n",
       "4  00378932232              N"
      ]
     },
     "execution_count": 21,
     "metadata": {},
     "output_type": "execute_result"
    }
   ],
   "source": [
    "import pandas as pd\n",
    "df = pd.DataFrame(list(all_rows), columns=['NDC', 'Process_Status'])\n",
    "df.head()"
   ]
  },
  {
   "cell_type": "code",
   "execution_count": null,
   "metadata": {},
   "outputs": [],
   "source": []
  }
 ],
 "metadata": {
  "kernelspec": {
   "display_name": "Python 3",
   "language": "python",
   "name": "python3"
  },
  "language_info": {
   "codemirror_mode": {
    "name": "ipython",
    "version": 3
   },
   "file_extension": ".py",
   "mimetype": "text/x-python",
   "name": "python",
   "nbconvert_exporter": "python",
   "pygments_lexer": "ipython3",
   "version": "3.7.3"
  }
 },
 "nbformat": 4,
 "nbformat_minor": 2
}
